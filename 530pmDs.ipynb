{
 "cells": [
  {
   "cell_type": "code",
   "execution_count": 1,
   "id": "0940bd59-5388-43cd-b57d-8a1ca260f972",
   "metadata": {},
   "outputs": [
    {
     "data": {
      "text/plain": [
       "18"
      ]
     },
     "execution_count": 1,
     "metadata": {},
     "output_type": "execute_result"
    }
   ],
   "source": [
    "9+9\n"
   ]
  },
  {
   "cell_type": "code",
   "execution_count": 5,
   "id": "326914cd-2d7b-430e-99a0-b1869511ec5e",
   "metadata": {},
   "outputs": [
    {
     "data": {
      "text/plain": [
       "-15"
      ]
     },
     "execution_count": 5,
     "metadata": {},
     "output_type": "execute_result"
    }
   ],
   "source": [
    "9+9-(10*3)-3"
   ]
  },
  {
   "cell_type": "code",
   "execution_count": 11,
   "id": "b298cf44-ce0c-4c12-b2e0-757b293069cd",
   "metadata": {},
   "outputs": [],
   "source": [
    "#9,9,10,3 == operand\n",
    "#-+*== operator\n"
   ]
  },
  {
   "cell_type": "code",
   "execution_count": 7,
   "id": "3cf0b891-1c82-4037-b100-4d1107450532",
   "metadata": {},
   "outputs": [
    {
     "data": {
      "text/plain": [
       "-15"
      ]
     },
     "execution_count": 7,
     "metadata": {},
     "output_type": "execute_result"
    }
   ],
   "source": [
    "9+9 -10*3-3"
   ]
  },
  {
   "cell_type": "code",
   "execution_count": 15,
   "id": "4154cd22-0a47-4efd-bb50-6b0d4320ea2f",
   "metadata": {},
   "outputs": [
    {
     "data": {
      "text/plain": [
       "-3"
      ]
     },
     "execution_count": 15,
     "metadata": {},
     "output_type": "execute_result"
    }
   ],
   "source": [
    "9+9-(10-3)+3"
   ]
  },
  {
   "cell_type": "code",
   "execution_count": 17,
   "id": "5bbd8615-9362-4016-97df-60172e9ae833",
   "metadata": {},
   "outputs": [
    {
     "data": {
      "text/plain": [
       "8"
      ]
     },
     "execution_count": 17,
     "metadata": {},
     "output_type": "execute_result"
    }
   ],
   "source": [
    "9+9-10-3+3"
   ]
  },
  {
   "cell_type": "markdown",
   "id": "c7ce8fef-4197-4fde-8875-b2bcccfaaca1",
   "metadata": {},
   "source": [
    "# arthmetic  operator"
   ]
  },
  {
   "cell_type": "code",
   "execution_count": 21,
   "id": "39634f35-55be-4a06-a3ef-2ad25186723f",
   "metadata": {},
   "outputs": [
    {
     "data": {
      "text/plain": [
       "50"
      ]
     },
     "execution_count": 21,
     "metadata": {},
     "output_type": "execute_result"
    }
   ],
   "source": [
    "10*5\n"
   ]
  },
  {
   "cell_type": "code",
   "execution_count": 23,
   "id": "b4583246-609a-48e3-81f9-f4a283aa81a7",
   "metadata": {},
   "outputs": [
    {
     "data": {
      "text/plain": [
       "20"
      ]
     },
     "execution_count": 23,
     "metadata": {},
     "output_type": "execute_result"
    }
   ],
   "source": [
    "10*2\n"
   ]
  },
  {
   "cell_type": "code",
   "execution_count": 25,
   "id": "4417be4a-220b-48d7-b0e9-803f7107d99e",
   "metadata": {},
   "outputs": [
    {
     "data": {
      "text/plain": [
       "15"
      ]
     },
     "execution_count": 25,
     "metadata": {},
     "output_type": "execute_result"
    }
   ],
   "source": [
    "10+5"
   ]
  },
  {
   "cell_type": "code",
   "execution_count": 27,
   "id": "2883711c-4734-454b-9b84-f3eb0a149787",
   "metadata": {},
   "outputs": [
    {
     "data": {
      "text/plain": [
       "5"
      ]
     },
     "execution_count": 27,
     "metadata": {},
     "output_type": "execute_result"
    }
   ],
   "source": [
    "10-5"
   ]
  },
  {
   "cell_type": "code",
   "execution_count": 29,
   "id": "64e60503-b48f-4e44-aa9d-eb6c034b1caf",
   "metadata": {},
   "outputs": [
    {
     "data": {
      "text/plain": [
       "100"
      ]
     },
     "execution_count": 29,
     "metadata": {},
     "output_type": "execute_result"
    }
   ],
   "source": [
    "10**2 \n",
    "         # power"
   ]
  },
  {
   "cell_type": "code",
   "execution_count": 31,
   "id": "5b7309eb-528b-4ad0-9eee-e389c7b6d778",
   "metadata": {},
   "outputs": [
    {
     "data": {
      "text/plain": [
       "2.0"
      ]
     },
     "execution_count": 31,
     "metadata": {},
     "output_type": "execute_result"
    }
   ],
   "source": [
    "10/5  # float divison"
   ]
  },
  {
   "cell_type": "code",
   "execution_count": 35,
   "id": "ed0ff6fc-b1b2-45da-8e72-b9bbfa4dac60",
   "metadata": {},
   "outputs": [
    {
     "data": {
      "text/plain": [
       "2"
      ]
     },
     "execution_count": 35,
     "metadata": {},
     "output_type": "execute_result"
    }
   ],
   "source": [
    "10//5  #int divis"
   ]
  },
  {
   "cell_type": "code",
   "execution_count": 39,
   "id": "2250669c-9aec-4f33-8060-8a293fe31d5d",
   "metadata": {},
   "outputs": [
    {
     "data": {
      "text/plain": [
       "2.5"
      ]
     },
     "execution_count": 39,
     "metadata": {},
     "output_type": "execute_result"
    }
   ],
   "source": [
    "15/6  # modulu"
   ]
  },
  {
   "cell_type": "code",
   "execution_count": 41,
   "id": "ad19c9e1-941a-4334-bb5b-acf8ee1ae70f",
   "metadata": {},
   "outputs": [
    {
     "data": {
      "text/plain": [
       "2"
      ]
     },
     "execution_count": 41,
     "metadata": {},
     "output_type": "execute_result"
    }
   ],
   "source": [
    "15//6"
   ]
  },
  {
   "cell_type": "code",
   "execution_count": null,
   "id": "94f7fd04-f253-4152-80e9-2ca35d7598f8",
   "metadata": {},
   "outputs": [],
   "source": []
  },
  {
   "cell_type": "markdown",
   "id": "efe454ec-b824-4f9d-b396-232e92f3aa01",
   "metadata": {},
   "source": [
    "# ASSIgment operator"
   ]
  },
  {
   "cell_type": "code",
   "execution_count": 50,
   "id": "778ad9bb-7fdc-4a8a-b5a9-a98cdcdc3035",
   "metadata": {},
   "outputs": [],
   "source": [
    "x=10"
   ]
  },
  {
   "cell_type": "markdown",
   "id": "3619a59f-5c78-47c1-b1bd-3ee7acac5cfc",
   "metadata": {},
   "source": [
    "x is called  object,variable ,identifier "
   ]
  },
  {
   "cell_type": "code",
   "execution_count": 61,
   "id": "b8cd0e4b-b989-4166-96ce-d39a7df2fbc1",
   "metadata": {},
   "outputs": [
    {
     "data": {
      "text/plain": [
       "12"
      ]
     },
     "execution_count": 61,
     "metadata": {},
     "output_type": "execute_result"
    }
   ],
   "source": [
    "x+2"
   ]
  },
  {
   "cell_type": "code",
   "execution_count": 66,
   "id": "02ed1e6f-2747-4c86-8007-063f00915dde",
   "metadata": {},
   "outputs": [
    {
     "data": {
      "text/plain": [
       "14"
      ]
     },
     "execution_count": 66,
     "metadata": {},
     "output_type": "execute_result"
    }
   ],
   "source": [
    "x+=2\n",
    "x"
   ]
  },
  {
   "cell_type": "code",
   "execution_count": 68,
   "id": "42195453-8fa1-45ff-b3c1-c2b7fd2d39f9",
   "metadata": {},
   "outputs": [
    {
     "data": {
      "text/plain": [
       "16"
      ]
     },
     "execution_count": 68,
     "metadata": {},
     "output_type": "execute_result"
    }
   ],
   "source": [
    "x+=2\n",
    "x"
   ]
  },
  {
   "cell_type": "code",
   "execution_count": 70,
   "id": "1873c267-c56b-45ef-9185-04817ac59db2",
   "metadata": {},
   "outputs": [
    {
     "data": {
      "text/plain": [
       "18"
      ]
     },
     "execution_count": 70,
     "metadata": {},
     "output_type": "execute_result"
    }
   ],
   "source": [
    "x+=2\n",
    "x"
   ]
  },
  {
   "cell_type": "code",
   "execution_count": 74,
   "id": "4140592d-8e1c-4ffd-a000-476d7f6a6d2d",
   "metadata": {},
   "outputs": [
    {
     "data": {
      "text/plain": [
       "14"
      ]
     },
     "execution_count": 74,
     "metadata": {},
     "output_type": "execute_result"
    }
   ],
   "source": [
    "x-=2\n",
    "x"
   ]
  },
  {
   "cell_type": "code",
   "execution_count": 76,
   "id": "ecf4006f-51f7-467f-8def-5bb7206ffba2",
   "metadata": {},
   "outputs": [
    {
     "data": {
      "text/plain": [
       "12"
      ]
     },
     "execution_count": 76,
     "metadata": {},
     "output_type": "execute_result"
    }
   ],
   "source": [
    "x-=2\n",
    "x"
   ]
  },
  {
   "cell_type": "markdown",
   "id": "f1f99419-c7d2-4618-9549-00aa65b7bf05",
   "metadata": {},
   "source": [
    "12 "
   ]
  },
  {
   "cell_type": "code",
   "execution_count": 83,
   "id": "ca8babef-d3bf-4581-84dd-209948569e41",
   "metadata": {},
   "outputs": [
    {
     "data": {
      "text/plain": [
       "18"
      ]
     },
     "execution_count": 83,
     "metadata": {},
     "output_type": "execute_result"
    }
   ],
   "source": [
    "x+=2\n",
    "x"
   ]
  },
  {
   "cell_type": "code",
   "execution_count": 87,
   "id": "d9b176dc-cfcd-4bac-ae61-f83bfbb391c6",
   "metadata": {},
   "outputs": [
    {
     "data": {
      "text/plain": [
       "108"
      ]
     },
     "execution_count": 87,
     "metadata": {},
     "output_type": "execute_result"
    }
   ],
   "source": [
    "x*=2\n",
    "x"
   ]
  },
  {
   "cell_type": "markdown",
   "id": "ac427225-4f2e-4327-b321-c31173e3c60a",
   "metadata": {},
   "source": [
    "UNIARY OPERATOR"
   ]
  },
  {
   "cell_type": "code",
   "execution_count": 93,
   "id": "d9fdb995-2ab3-453d-a549-1e3507b42f7e",
   "metadata": {},
   "outputs": [
    {
     "data": {
      "text/plain": [
       "7"
      ]
     },
     "execution_count": 93,
     "metadata": {},
     "output_type": "execute_result"
    }
   ],
   "source": [
    "n=7\n",
    "n"
   ]
  },
  {
   "cell_type": "code",
   "execution_count": 95,
   "id": "873964db-44a5-4b15-98cb-5e0199a09e1d",
   "metadata": {},
   "outputs": [
    {
     "data": {
      "text/plain": [
       "-7"
      ]
     },
     "execution_count": 95,
     "metadata": {},
     "output_type": "execute_result"
    }
   ],
   "source": [
    "m=-n\n",
    "m"
   ]
  },
  {
   "cell_type": "code",
   "execution_count": null,
   "id": "d32efeea-4f0b-4da2-a55e-4a3b2d03158e",
   "metadata": {},
   "outputs": [],
   "source": []
  }
 ],
 "metadata": {
  "kernelspec": {
   "display_name": "Python 3 (ipykernel)",
   "language": "python",
   "name": "python3"
  },
  "language_info": {
   "codemirror_mode": {
    "name": "ipython",
    "version": 3
   },
   "file_extension": ".py",
   "mimetype": "text/x-python",
   "name": "python",
   "nbconvert_exporter": "python",
   "pygments_lexer": "ipython3",
   "version": "3.12.7"
  }
 },
 "nbformat": 4,
 "nbformat_minor": 5
}
